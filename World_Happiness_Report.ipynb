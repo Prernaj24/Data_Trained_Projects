{
 "cells": [
  {
   "cell_type": "code",
   "execution_count": null,
   "id": "4869bdcd",
   "metadata": {},
   "outputs": [],
   "source": [
    "import pandas as pd\n",
    "import numpy as np\n",
    "import seaborn as sns\n",
    "import matplotlib.pyplot as plt\n",
    "%matplotlib inline\n",
    "#import warnings\n",
    "#warning.filter warning('ignore')"
   ]
  },
  {
   "cell_type": "code",
   "execution_count": null,
   "id": "0c03d01f",
   "metadata": {},
   "outputs": [],
   "source": [
    "from sklearn import metrics\n",
    "from sklearn.model_selection import train_test_split, GridSearchCV\n",
    "from sklearn.metrics import confusion_matrix\n",
    "from sklearn.preprocessing import StandardScaler\n",
    "from statsmodels.stats.outliers_influence import variance_inflation_factor\n",
    "from sklearn.ensemble import RandomForestClassifier\n",
    "from sklearn.metrics import accuracy_score, confusion_matrix, classification_report"
   ]
  },
  {
   "cell_type": "code",
   "execution_count": null,
   "id": "72908f43",
   "metadata": {},
   "outputs": [],
   "source": [
    "df = pd.read_csv(\"https://raw.githubusercontent.com/dsrscientist/DSData/master/happiness_score_dataset.csv\")\n",
    "df"
   ]
  },
  {
   "cell_type": "code",
   "execution_count": null,
   "id": "6b816d9e",
   "metadata": {},
   "outputs": [],
   "source": [
    "df.columns"
   ]
  },
  {
   "cell_type": "code",
   "execution_count": null,
   "id": "dae39009",
   "metadata": {},
   "outputs": [],
   "source": [
    "df.isnull().sum()"
   ]
  },
  {
   "cell_type": "code",
   "execution_count": null,
   "id": "bf2c1407",
   "metadata": {},
   "outputs": [],
   "source": [
    "#sns.scatterplot(x = 'Happiness Rank', y = 'Dystopia Residual',data= df)"
   ]
  },
  {
   "cell_type": "code",
   "execution_count": null,
   "id": "4633d497",
   "metadata": {},
   "outputs": [],
   "source": [
    "#sns.scatterplot(x = 'Happiness Score', y = 'Dystopia Residual',data= df)"
   ]
  },
  {
   "cell_type": "code",
   "execution_count": null,
   "id": "18bd0914",
   "metadata": {},
   "outputs": [],
   "source": [
    "#sns.scatterplot(x = 'Economy (GDP per Capita)', y = 'Dystopia Residual',data= df)"
   ]
  },
  {
   "cell_type": "code",
   "execution_count": null,
   "id": "4dec04d6",
   "metadata": {},
   "outputs": [],
   "source": [
    "#sns.scatterplot(x = 'Health (Life Expectancy)', y = 'Dystopia Residual',data= df)"
   ]
  },
  {
   "cell_type": "code",
   "execution_count": null,
   "id": "d54ac1d8",
   "metadata": {},
   "outputs": [],
   "source": [
    "#sns.scatterplot(x = 'Freedom', y = 'Dystopia Residual',data= df)"
   ]
  },
  {
   "cell_type": "code",
   "execution_count": null,
   "id": "fffd8d46",
   "metadata": {},
   "outputs": [],
   "source": [
    "#sns.scatterplot(x = 'Trust (Government Corruption)', y = 'Dystopia Residual',data= df)"
   ]
  },
  {
   "cell_type": "code",
   "execution_count": null,
   "id": "93a1b666",
   "metadata": {},
   "outputs": [],
   "source": [
    "#sns.scatterplot(x = 'Generosity', y = 'Dystopia Residual',data= df)"
   ]
  },
  {
   "cell_type": "code",
   "execution_count": null,
   "id": "37b66694",
   "metadata": {},
   "outputs": [],
   "source": [
    "plt.figure(figsize = (15,12))"
   ]
  },
  {
   "cell_type": "code",
   "execution_count": null,
   "id": "f72703d0",
   "metadata": {},
   "outputs": [],
   "source": [
    "#df.corr()\n",
    "sns.heatmap(df.corr(), annot=True, linewidths = 0.5, linecolor='black', fmt ='.2f')"
   ]
  },
  {
   "cell_type": "code",
   "execution_count": null,
   "id": "04bef486",
   "metadata": {},
   "outputs": [],
   "source": [
    "df.describe()"
   ]
  },
  {
   "cell_type": "code",
   "execution_count": null,
   "id": "c9d04312",
   "metadata": {},
   "outputs": [],
   "source": [
    "plt.figure(figsize =(15,12))\n",
    "sns.heatmap(round (df.describe()[1:].transpose(),2), linewidth = 2, annot=True, fmt ='f')\n",
    "plt.xticks(fontsize=18),plt.yticks (fontsize = 15),plt.title(\"variable summary\")\n",
    "plt.show()"
   ]
  },
  {
   "cell_type": "code",
   "execution_count": null,
   "id": "7705d14f",
   "metadata": {},
   "outputs": [],
   "source": [
    "#df.info()"
   ]
  },
  {
   "cell_type": "code",
   "execution_count": null,
   "id": "409c5461",
   "metadata": {},
   "outputs": [],
   "source": [
    "df.shape"
   ]
  },
  {
   "cell_type": "code",
   "execution_count": null,
   "id": "cd3b809f",
   "metadata": {},
   "outputs": [],
   "source": [
    "plt.figure(figsize =(25,20))\n",
    "plotnumber=1\n",
    "\n",
    "for column in df:\n",
    "    if plotnumber<=12:\n",
    "        ax = plt.subplot(6,2,plotnumber)\n",
    "        plt.hist(df[column], bins = 30)\n",
    "        plt.xlabel(column, fontsize = 25)\n",
    "        \n",
    "    plotnumber+=1\n",
    "plt.tight_layout()  \n",
    "    \n",
    "        "
   ]
  },
  {
   "cell_type": "code",
   "execution_count": null,
   "id": "ad08b980",
   "metadata": {},
   "outputs": [],
   "source": [
    "df.skew()"
   ]
  },
  {
   "cell_type": "code",
   "execution_count": null,
   "id": "960d34c8",
   "metadata": {},
   "outputs": [],
   "source": [
    "#sns.distplot(df['Happiness Rank'])"
   ]
  },
  {
   "cell_type": "code",
   "execution_count": null,
   "id": "aa929b78",
   "metadata": {},
   "outputs": [],
   "source": [
    "#sns.distplot(df['Happiness Score'])"
   ]
  },
  {
   "cell_type": "code",
   "execution_count": null,
   "id": "542a8b8d",
   "metadata": {},
   "outputs": [],
   "source": [
    "#sns.distplot(df['Standard Error'])"
   ]
  },
  {
   "cell_type": "code",
   "execution_count": null,
   "id": "f7340689",
   "metadata": {},
   "outputs": [],
   "source": [
    "#sns.distplot(df['Generosity'])"
   ]
  },
  {
   "cell_type": "code",
   "execution_count": null,
   "id": "29cf2f05",
   "metadata": {},
   "outputs": [],
   "source": [
    "#sns.distplot(df['Trust (Government Corruption)'])"
   ]
  },
  {
   "cell_type": "code",
   "execution_count": null,
   "id": "339a56d3",
   "metadata": {},
   "outputs": [],
   "source": [
    "#sns.distplot(df['Health (Life Expectancy)'])"
   ]
  },
  {
   "cell_type": "code",
   "execution_count": null,
   "id": "bb29a651",
   "metadata": {},
   "outputs": [],
   "source": [
    "#sns.distplot(df['Freedom'])"
   ]
  },
  {
   "cell_type": "code",
   "execution_count": null,
   "id": "eb120307",
   "metadata": {},
   "outputs": [],
   "source": [
    "#sns.distplot(df['Family'])"
   ]
  },
  {
   "cell_type": "code",
   "execution_count": null,
   "id": "23c77d58",
   "metadata": {},
   "outputs": [],
   "source": [
    "#sns.distplot(df['Economy (GDP per Capita)'])"
   ]
  },
  {
   "cell_type": "code",
   "execution_count": null,
   "id": "f3f0a624",
   "metadata": {},
   "outputs": [],
   "source": [
    "from scipy import stats\n",
    "from scipy.stats import zscore\n",
    "import numpy as np"
   ]
  },
  {
   "cell_type": "code",
   "execution_count": null,
   "id": "7c922340",
   "metadata": {},
   "outputs": [],
   "source": [
    "#df.columns"
   ]
  },
  {
   "cell_type": "code",
   "execution_count": null,
   "id": "0897e127",
   "metadata": {
    "scrolled": true
   },
   "outputs": [],
   "source": [
    "di = df.select_dtypes('float')\n",
    "z_score=zscore(di)\n",
    "print(di.shape)\n",
    "df_1=df.loc[(z_score<3).all(axis=1)]\n",
    "print(df_1.shape)"
   ]
  },
  {
   "cell_type": "code",
   "execution_count": null,
   "id": "057eed51",
   "metadata": {},
   "outputs": [],
   "source": [
    "df.head()"
   ]
  },
  {
   "cell_type": "code",
   "execution_count": null,
   "id": "79944fe6",
   "metadata": {},
   "outputs": [],
   "source": [
    "plt.figure(figsize =(25,20))\n",
    "plotnumber=1\n",
    "\n",
    "for column in df:\n",
    "    if plotnumber<=12:\n",
    "        ax = plt.subplot(6,2,plotnumber)\n",
    "        plt.hist(df[column], bins = 30)\n",
    "        plt.xlabel(column, fontsize = 25)\n",
    "        \n",
    "    plotnumber+=1\n",
    "plt.tight_layout()  "
   ]
  },
  {
   "cell_type": "code",
   "execution_count": null,
   "id": "12d03522",
   "metadata": {},
   "outputs": [],
   "source": [
    "from sklearn.model_selection import train_test_split, GridSearchCV\n",
    "X_train, x_test, Y_train, y_test = train_test_split(X,y,test_size=.30, random_state = 41)\n",
    "clf = RandomForestClassifier()\n",
    "params ={'n_estimators':[13,15],\n",
    "         'criterion':['Dystopia Residual'],\n",
    "         'max_depth':[10, 15],\n",
    "         'min_samples_split':[10,11],\n",
    "         'min_sample_leaf':[5,6]\n",
    "        }\n",
    "grd = GridSearchCV(clf,param_grid=params)\n",
    "grd.fit(X_train, Y_train)\n",
    "print('best_params = >', grd.best_params_)\n",
    "\n",
    "clf = grd.best_estimators_\n",
    "clf.fit(X_train, Y_train)\n",
    "y_pred = clf.predict(x_test)\n",
    "\n",
    "rf_conf_mat = confusion_matrix(y_test, y_pred)\n",
    "\n",
    "print(\"\\nconf_mat = >\",'\\n', rf_conf_mat)\n",
    "\n",
    "print(\"\\nAccuracy rf Normal =====\", accuracy_score(y_test, y_pred))\n"
   ]
  },
  {
   "cell_type": "code",
   "execution_count": null,
   "id": "4a1b1a2b",
   "metadata": {},
   "outputs": [],
   "source": [
    "report = classification_report(y_test, y_pred)\n",
    "print(report)"
   ]
  },
  {
   "cell_type": "code",
   "execution_count": null,
   "id": "0a992d37",
   "metadata": {},
   "outputs": [],
   "source": [
    "# ROC AUC Curve to choose best model"
   ]
  },
  {
   "cell_type": "code",
   "execution_count": null,
   "id": "29277b02",
   "metadata": {},
   "outputs": [],
   "source": [
    "from sklearn.linear_model import LogisticRegression\n",
    "from sklearn.neighbors import \n",
    "from sklearn.tree import DecisionTreeClassifier\n",
    "from sklearn.ensemble import RandomForestClassifier\n",
    "from sklearn.metrics import roc_curve, roc_auc_score\n",
    "from sklearn.metrics import plot_roc_curve"
   ]
  },
  {
   "cell_type": "code",
   "execution_count": null,
   "id": "eb0feacd",
   "metadata": {},
   "outputs": [],
   "source": [
    "lr = LogisticRegression()\n",
    "dt = DecisionTreeClassifier()\n",
    "rf = RandomForestClassifier()\n",
    "kn = KNeighborsClassifier()"
   ]
  },
  {
   "cell_type": "code",
   "execution_count": null,
   "id": "34a50424",
   "metadata": {},
   "outputs": [],
   "source": [
    "# Traine test split\n",
    "X = df_1.drop(['Happiness Score'], axis=1)\n",
    "Y = df_1[['Happiness Score']]\n",
    "X_train, x_test, Y_train, y_test = train_test_split(X,y,test_size=.30, random_state = 41)\n",
    "\n",
    "# training with all classifiers\n",
    "lr.fit(X_train, Y_train)\n",
    "rf.fit(X_train, Y_train)\n",
    "kn.fit(X_train, Y_train)\n",
    "dt.fit(X_train, Y_train)\n",
    "\n",
    "print(\"All models are trained\")\n"
   ]
  },
  {
   "cell_type": "code",
   "execution_count": null,
   "id": "69528335",
   "metadata": {},
   "outputs": [],
   "source": [
    "# All models score captured\n",
    "lr.score(x_test, y_test)\n",
    "kn.score(x_test, y_test)\n",
    "dt.score(x_test, y_test)\n",
    "rf.score(x_test, y_test)\n",
    "print(\"All models test score captured\")\n"
   ]
  },
  {
   "cell_type": "code",
   "execution_count": null,
   "id": "93aba2ac",
   "metadata": {},
   "outputs": [],
   "source": [
    "# check ROC AUC Curve for the fitted model\n",
    "disp = plot_roc_curve(dt,x_test,y_test)\n",
    "plot_roc_curve(lr,x_test, y_test, ax=disp.ax_) # ax_ = Axes with confusion matrix\n",
    "plot_roc_curve(kn,x_test, y_test, ax=disp.ax_)\n",
    "plot_roc_curve(rf,x_test, y_test, ax=disp.ax_)\n",
    "plt.legend(prop={'size':11}, loc='lower right')\n",
    "\n",
    "plt.show()"
   ]
  },
  {
   "cell_type": "code",
   "execution_count": null,
   "id": "5f6ee75d",
   "metadata": {},
   "outputs": [],
   "source": []
  }
 ],
 "metadata": {
  "kernelspec": {
   "display_name": "Python 3",
   "language": "python",
   "name": "python3"
  },
  "language_info": {
   "codemirror_mode": {
    "name": "ipython",
    "version": 3
   },
   "file_extension": ".py",
   "mimetype": "text/x-python",
   "name": "python",
   "nbconvert_exporter": "python",
   "pygments_lexer": "ipython3",
   "version": "3.8.8"
  }
 },
 "nbformat": 4,
 "nbformat_minor": 5
}
