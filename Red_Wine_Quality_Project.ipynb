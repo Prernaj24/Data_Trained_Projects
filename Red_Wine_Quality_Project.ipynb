{
 "cells": [
  {
   "cell_type": "code",
   "execution_count": null,
   "id": "2dc2c2d5",
   "metadata": {},
   "outputs": [],
   "source": [
    "# import necessery libraries\n",
    "import pandas as pd\n",
    "import numpy as np\n",
    "import seaborn as sns\n",
    "from sklearn.model_selection import train_test_split\n",
    "from sklearn import preprocessing\n",
    "from sklearn.ensemble import RandomForestRegressor\n",
    "from sklearn.pipeline import make_pipeline\n",
    "from sklearn.model_selection import GridSearchCV\n",
    "from sklearn.metrics import mean_squared_error, r2_score\n",
    "#from sklearn.externals import joblib"
   ]
  },
  {
   "cell_type": "code",
   "execution_count": null,
   "id": "f7eb02b9",
   "metadata": {},
   "outputs": [],
   "source": [
    "url=\"https://raw.githubusercontent.com/dsrscientist/DSData/master/winequality-red.csv\"\n",
    "df=pd.read_csv(url)"
   ]
  },
  {
   "cell_type": "code",
   "execution_count": null,
   "id": "832b14e0",
   "metadata": {
    "scrolled": true
   },
   "outputs": [],
   "source": [
    "df.head()"
   ]
  },
  {
   "cell_type": "code",
   "execution_count": null,
   "id": "605571f1",
   "metadata": {},
   "outputs": [],
   "source": [
    "df.shape"
   ]
  },
  {
   "cell_type": "code",
   "execution_count": null,
   "id": "48497ec6",
   "metadata": {},
   "outputs": [],
   "source": [
    "df.describe()"
   ]
  },
  {
   "cell_type": "code",
   "execution_count": null,
   "id": "5f59048d",
   "metadata": {},
   "outputs": [],
   "source": [
    "df.isnull().sum()"
   ]
  },
  {
   "cell_type": "code",
   "execution_count": null,
   "id": "02569213",
   "metadata": {},
   "outputs": [],
   "source": [
    "df.dtypes"
   ]
  },
  {
   "cell_type": "code",
   "execution_count": null,
   "id": "ba276095",
   "metadata": {},
   "outputs": [],
   "source": [
    "df.corr"
   ]
  },
  {
   "cell_type": "code",
   "execution_count": null,
   "id": "2eea75c1",
   "metadata": {},
   "outputs": [],
   "source": [
    "sns.heatmap(df.corr(), annot=True, linewidths = 0.5, linecolor='black', fmt ='.2f')"
   ]
  },
  {
   "cell_type": "code",
   "execution_count": null,
   "id": "9663bd83",
   "metadata": {},
   "outputs": [],
   "source": [
    "df.columns"
   ]
  },
  {
   "cell_type": "code",
   "execution_count": null,
   "id": "cade9691",
   "metadata": {},
   "outputs": [],
   "source": [
    "df.info"
   ]
  },
  {
   "cell_type": "code",
   "execution_count": null,
   "id": "7e4e2146",
   "metadata": {},
   "outputs": [],
   "source": [
    "df['quality'].unique()"
   ]
  },
  {
   "cell_type": "code",
   "execution_count": null,
   "id": "4e1767a6",
   "metadata": {},
   "outputs": [],
   "source": [
    "sns.pairplot(df)"
   ]
  },
  {
   "cell_type": "code",
   "execution_count": null,
   "id": "24ac1d00",
   "metadata": {},
   "outputs": [],
   "source": [
    "# Split data into training and testing data"
   ]
  },
  {
   "cell_type": "code",
   "execution_count": null,
   "id": "09d4c12d",
   "metadata": {},
   "outputs": [],
   "source": [
    "y=df.quality\n",
    "X=df.drop('quality',axis=1)"
   ]
  },
  {
   "cell_type": "code",
   "execution_count": null,
   "id": "cbd6e2db",
   "metadata": {},
   "outputs": [],
   "source": [
    "# set 20% of data as a test set for evaluation"
   ]
  },
  {
   "cell_type": "code",
   "execution_count": null,
   "id": "784f601a",
   "metadata": {},
   "outputs": [],
   "source": [
    "X_train, X_test, y_train, y_test = train_test_split(X, y, test_size=0.2,random_state=50,stratify=y)                                                                         "
   ]
  },
  {
   "cell_type": "code",
   "execution_count": null,
   "id": "1eeb2099",
   "metadata": {},
   "outputs": [],
   "source": [
    "# Fitting the transformer API"
   ]
  },
  {
   "cell_type": "code",
   "execution_count": null,
   "id": "a0a7bf30",
   "metadata": {},
   "outputs": [],
   "source": [
    "fitting = preprocessing.StandardScaler().fit(X_train)"
   ]
  },
  {
   "cell_type": "code",
   "execution_count": null,
   "id": "31028de2",
   "metadata": {},
   "outputs": [],
   "source": [
    "X_train_fitting = fitting.transform(X_train)\n",
    "print(X_train_fitting.mean(axis=0))"
   ]
  },
  {
   "cell_type": "code",
   "execution_count": null,
   "id": "769b0ace",
   "metadata": {},
   "outputs": [],
   "source": [
    "print (X_train_fitting.std(axis=0))"
   ]
  },
  {
   "cell_type": "code",
   "execution_count": null,
   "id": "a05a90e6",
   "metadata": {},
   "outputs": [],
   "source": [
    "# Applying transformer to test data "
   ]
  },
  {
   "cell_type": "code",
   "execution_count": null,
   "id": "46cb99cf",
   "metadata": {},
   "outputs": [],
   "source": [
    "X_test_fitting=fitting.transform(X_test)\n",
    "print(X_test_fitting.mean(axis=0))"
   ]
  },
  {
   "cell_type": "code",
   "execution_count": null,
   "id": "b5088b01",
   "metadata": {},
   "outputs": [],
   "source": [
    "print(X_test_fitting.std(axis=0))"
   ]
  },
  {
   "cell_type": "code",
   "execution_count": null,
   "id": "76973dd3",
   "metadata": {},
   "outputs": [],
   "source": [
    "# pipeline with preprocessing and model"
   ]
  },
  {
   "cell_type": "code",
   "execution_count": null,
   "id": "b12ee4b8",
   "metadata": {},
   "outputs": [],
   "source": [
    "pipeline = make_pipeline(preprocessing.StandardScaler(), RandomForestRegressor(n_estimators=100))\n",
    "                         "
   ]
  },
  {
   "cell_type": "code",
   "execution_count": null,
   "id": "04320ed3",
   "metadata": {},
   "outputs": [],
   "source": [
    "hyperparameters = { 'randomforestregressor__max_features' : ['auto', 'sqrt', 'log2'], 'randomforestregressor__max_depth': [None, 5, 3, 1]}\n",
    "                 "
   ]
  },
  {
   "cell_type": "code",
   "execution_count": null,
   "id": "b7e00e04",
   "metadata": {},
   "outputs": [],
   "source": [
    "# Declare hyperparameters to tune"
   ]
  },
  {
   "cell_type": "code",
   "execution_count": null,
   "id": "cc09dec8",
   "metadata": {},
   "outputs": [],
   "source": [
    "hyperparameters = { 'randomforestregressor__max_features' : ['auto', 'sqrt', 'log2'],\n",
    "                  'randomforestregressor__max_depth': [None, 5, 3, 1]}"
   ]
  },
  {
   "cell_type": "code",
   "execution_count": null,
   "id": "ded5b8f2",
   "metadata": {},
   "outputs": [],
   "source": [
    "clf = GridSearchCV(pipeline, hyperparameters, cv=10)"
   ]
  },
  {
   "cell_type": "code",
   "execution_count": null,
   "id": "f08a240d",
   "metadata": {},
   "outputs": [],
   "source": [
    "# To fit and tune model"
   ]
  },
  {
   "cell_type": "code",
   "execution_count": null,
   "id": "39817613",
   "metadata": {},
   "outputs": [],
   "source": [
    "clf.fit(X_train, y_train)"
   ]
  },
  {
   "cell_type": "code",
   "execution_count": null,
   "id": "64cea146",
   "metadata": {},
   "outputs": [],
   "source": [
    "# set best parameters"
   ]
  },
  {
   "cell_type": "code",
   "execution_count": null,
   "id": "49f84eb2",
   "metadata": {},
   "outputs": [],
   "source": [
    "print(clf.best_params_)"
   ]
  },
  {
   "cell_type": "code",
   "execution_count": null,
   "id": "d924cb8f",
   "metadata": {},
   "outputs": [],
   "source": [
    "# confirm model will be retrained"
   ]
  },
  {
   "cell_type": "code",
   "execution_count": null,
   "id": "e667b52e",
   "metadata": {},
   "outputs": [],
   "source": [
    "print(clf.refit)"
   ]
  },
  {
   "cell_type": "code",
   "execution_count": null,
   "id": "6df0ee4e",
   "metadata": {},
   "outputs": [],
   "source": [
    "# Predict a new set of data"
   ]
  },
  {
   "cell_type": "code",
   "execution_count": null,
   "id": "6575b412",
   "metadata": {},
   "outputs": [],
   "source": [
    "y_pred = clf.predict(X_test)"
   ]
  },
  {
   "cell_type": "code",
   "execution_count": null,
   "id": "51e2cd4c",
   "metadata": {},
   "outputs": [],
   "source": [
    "print(r2_score(y_test, y_pred))"
   ]
  },
  {
   "cell_type": "code",
   "execution_count": null,
   "id": "27680c93",
   "metadata": {},
   "outputs": [],
   "source": [
    "print(mean_squared_error(y_test, y_pred))"
   ]
  },
  {
   "cell_type": "code",
   "execution_count": null,
   "id": "5d00bafe",
   "metadata": {},
   "outputs": [],
   "source": [
    "# RandomForestClassifier"
   ]
  },
  {
   "cell_type": "code",
   "execution_count": null,
   "id": "afa0ff17",
   "metadata": {},
   "outputs": [],
   "source": [
    "from sklearn.ensemble import RandomForestClassifier\n",
    "from sklearn.svm import SVC\n",
    "from sklearn.linear_model import SGDClassifier\n",
    "from sklearn.metrics import confusion_matrix, classification_report"
   ]
  },
  {
   "cell_type": "code",
   "execution_count": null,
   "id": "c206939b",
   "metadata": {},
   "outputs": [],
   "source": [
    "rfc = RandomForestClassifier(n_estimators=200)\n",
    "rfc.fit(X_train, y_train)\n",
    "pred_rfc = rfc.predict(X_test)"
   ]
  },
  {
   "cell_type": "code",
   "execution_count": null,
   "id": "b6a2a041",
   "metadata": {},
   "outputs": [],
   "source": [
    "print(classification_report(y_test, pred_rfc))"
   ]
  },
  {
   "cell_type": "code",
   "execution_count": null,
   "id": "52e36595",
   "metadata": {},
   "outputs": [],
   "source": [
    "# Above RandomForestClassifier gives 71%  accuracy its best fit method."
   ]
  },
  {
   "cell_type": "code",
   "execution_count": null,
   "id": "36ac9281",
   "metadata": {},
   "outputs": [],
   "source": [
    "#Confusion matrix for the random forest classification\n",
    "print(confusion_matrix(y_test, pred_rfc))"
   ]
  },
  {
   "cell_type": "code",
   "execution_count": null,
   "id": "c7b6c060",
   "metadata": {},
   "outputs": [],
   "source": [
    "svc = SVC()\n",
    "svc.fit(X_train, y_train)\n",
    "pred_svc = svc.predict(X_test)"
   ]
  },
  {
   "cell_type": "code",
   "execution_count": null,
   "id": "28963bab",
   "metadata": {},
   "outputs": [],
   "source": [
    "print(classification_report(y_test, pred_svc))"
   ]
  },
  {
   "cell_type": "code",
   "execution_count": null,
   "id": "ac027510",
   "metadata": {},
   "outputs": [],
   "source": [
    "#Confusion matrix for the random forest classification gives 50% accuracy"
   ]
  },
  {
   "cell_type": "code",
   "execution_count": null,
   "id": "1ad81a5c",
   "metadata": {},
   "outputs": [],
   "source": [
    "import pickle\n",
    "filename = [\"Red_Wine_Quality\"]\n",
    "pickle.dump(df,open(filename, 'wb'))"
   ]
  },
  {
   "cell_type": "code",
   "execution_count": null,
   "id": "8e4bdf06",
   "metadata": {},
   "outputs": [],
   "source": [
    "loaded_model = pickle.load(open('Abalone_Case_Study.pkl','rf'))\n",
    "result = loaded_model.score(features_test, target_test)\n",
    "print(result)"
   ]
  },
  {
   "cell_type": "code",
   "execution_count": null,
   "id": "975fb7a5",
   "metadata": {},
   "outputs": [],
   "source": [
    "conclusion=pd.DataFrame([Loaded_model.predict(features_test)[:],pred_decsion[:]],index=['Prediction','Original'])"
   ]
  },
  {
   "cell_type": "code",
   "execution_count": null,
   "id": "bd868046",
   "metadata": {},
   "outputs": [],
   "source": [
    "conclusion"
   ]
  },
  {
   "cell_type": "code",
   "execution_count": null,
   "id": "655ce693",
   "metadata": {},
   "outputs": [],
   "source": []
  }
 ],
 "metadata": {
  "kernelspec": {
   "display_name": "Python 3",
   "language": "python",
   "name": "python3"
  },
  "language_info": {
   "codemirror_mode": {
    "name": "ipython",
    "version": 3
   },
   "file_extension": ".py",
   "mimetype": "text/x-python",
   "name": "python",
   "nbconvert_exporter": "python",
   "pygments_lexer": "ipython3",
   "version": "3.8.8"
  }
 },
 "nbformat": 4,
 "nbformat_minor": 5
}
