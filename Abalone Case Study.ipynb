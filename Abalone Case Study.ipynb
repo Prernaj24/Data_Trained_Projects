{
 "cells": [
  {
   "cell_type": "code",
   "execution_count": null,
   "id": "da0b44d3",
   "metadata": {},
   "outputs": [],
   "source": [
    "import pandas as pd\n",
    "import numpy as np"
   ]
  },
  {
   "cell_type": "code",
   "execution_count": null,
   "id": "c730ab8d",
   "metadata": {},
   "outputs": [],
   "source": [
    "df=pd.read_csv(\"https://raw.githubusercontent.com/dsrscientist/dataset1/master/abalone.csv\")"
   ]
  },
  {
   "cell_type": "code",
   "execution_count": null,
   "id": "43e251a3",
   "metadata": {},
   "outputs": [],
   "source": [
    "df.head()"
   ]
  },
  {
   "cell_type": "code",
   "execution_count": null,
   "id": "c43cda01",
   "metadata": {},
   "outputs": [],
   "source": [
    "# checking the null value"
   ]
  },
  {
   "cell_type": "code",
   "execution_count": null,
   "id": "bb83b6de",
   "metadata": {},
   "outputs": [],
   "source": [
    "df.isnull().sum()"
   ]
  },
  {
   "cell_type": "code",
   "execution_count": null,
   "id": "ad3552c7",
   "metadata": {},
   "outputs": [],
   "source": [
    "df.columns"
   ]
  },
  {
   "cell_type": "code",
   "execution_count": null,
   "id": "2d649640",
   "metadata": {},
   "outputs": [],
   "source": [
    "df.dtypes"
   ]
  },
  {
   "cell_type": "code",
   "execution_count": null,
   "id": "c2f2d53a",
   "metadata": {},
   "outputs": [],
   "source": [
    "df.shape"
   ]
  },
  {
   "cell_type": "code",
   "execution_count": null,
   "id": "4bf0fa94",
   "metadata": {},
   "outputs": [],
   "source": [
    "df['Rings'].unique()"
   ]
  },
  {
   "cell_type": "code",
   "execution_count": null,
   "id": "2920b458",
   "metadata": {},
   "outputs": [],
   "source": [
    "df['Rings'].nunique()"
   ]
  },
  {
   "cell_type": "code",
   "execution_count": null,
   "id": "088fa9e9",
   "metadata": {},
   "outputs": [],
   "source": [
    "df.loc[df['Rings']==\" \"]"
   ]
  },
  {
   "cell_type": "code",
   "execution_count": null,
   "id": "d442d5d1",
   "metadata": {},
   "outputs": [],
   "source": [
    "# Making dataframe for the nominal data"
   ]
  },
  {
   "cell_type": "code",
   "execution_count": null,
   "id": "49ec5890",
   "metadata": {},
   "outputs": [],
   "source": [
    "df_visulization_nominal=df[['Sex', 'Length', 'Diameter', 'Height',\n",
    "                            'Whole weight', 'Shucked weight', 'Viscera weight', 'Shell weight', 'Rings']].copy()"
   ]
  },
  {
   "cell_type": "code",
   "execution_count": null,
   "id": "c3d3ea49",
   "metadata": {},
   "outputs": [],
   "source": [
    "df_visulization_nominal.columns"
   ]
  },
  {
   "cell_type": "code",
   "execution_count": null,
   "id": "d26c5b92",
   "metadata": {},
   "outputs": [],
   "source": [
    "len(df_visulization_nominal.columns)"
   ]
  },
  {
   "cell_type": "code",
   "execution_count": null,
   "id": "50d66c74",
   "metadata": {},
   "outputs": [],
   "source": [
    "# visualization of the data"
   ]
  },
  {
   "cell_type": "code",
   "execution_count": null,
   "id": "2bf100c1",
   "metadata": {},
   "outputs": [],
   "source": [
    "import seaborn as sns"
   ]
  },
  {
   "cell_type": "code",
   "execution_count": null,
   "id": "b9e9ccad",
   "metadata": {},
   "outputs": [],
   "source": [
    "ax= sns.countplot(x='Sex',data=df_visulization_nominal,orient='v')\n",
    "print(df_visulization_nominal['Sex'].value_counts())"
   ]
  },
  {
   "cell_type": "code",
   "execution_count": null,
   "id": "042fd15b",
   "metadata": {},
   "outputs": [],
   "source": [
    "# From the above obervation the total number of male is 1528, female is 1307 and infant is 1342"
   ]
  },
  {
   "cell_type": "code",
   "execution_count": null,
   "id": "ae6a6c60",
   "metadata": {},
   "outputs": [],
   "source": [
    "ax= sns.countplot(x='Rings',data=df_visulization_nominal)\n",
    "print(df_visulization_nominal['Rings'].value_counts())"
   ]
  },
  {
   "cell_type": "code",
   "execution_count": null,
   "id": "8057b77c",
   "metadata": {},
   "outputs": [],
   "source": [
    "# From the above obervation Ring-9 having higest (689) ring count."
   ]
  },
  {
   "cell_type": "code",
   "execution_count": null,
   "id": "ee168077",
   "metadata": {},
   "outputs": [],
   "source": [
    "# Making dataframe of the ordinal data"
   ]
  },
  {
   "cell_type": "code",
   "execution_count": null,
   "id": "fd0b80ea",
   "metadata": {},
   "outputs": [],
   "source": [
    "df_visualisation_ordinal=df[['Sex','Rings']].copy()"
   ]
  },
  {
   "cell_type": "code",
   "execution_count": null,
   "id": "ed51799d",
   "metadata": {},
   "outputs": [],
   "source": [
    "sns.catplot(x='Sex',y='Rings',data=df)"
   ]
  },
  {
   "cell_type": "code",
   "execution_count": null,
   "id": "25c6e267",
   "metadata": {},
   "outputs": [],
   "source": [
    "df_visualisation_continous=df[['Length', 'Diameter', 'Height','Whole weight', 'Shucked weight', 'Viscera weight', 'Shell weight']].copy()\n",
    "                            "
   ]
  },
  {
   "cell_type": "code",
   "execution_count": null,
   "id": "67e0bd14",
   "metadata": {},
   "outputs": [],
   "source": [
    "import seaborn as sns\n",
    "sns.distplot(df_visualisation_continous['Diameter'], kde=True)"
   ]
  },
  {
   "cell_type": "code",
   "execution_count": null,
   "id": "959c52b1",
   "metadata": {},
   "outputs": [],
   "source": [
    "sns.distplot(df_visualisation_continous['Length'], kde=True)"
   ]
  },
  {
   "cell_type": "code",
   "execution_count": null,
   "id": "8caca036",
   "metadata": {},
   "outputs": [],
   "source": [
    "df.corr()"
   ]
  },
  {
   "cell_type": "code",
   "execution_count": null,
   "id": "f06a8fab",
   "metadata": {},
   "outputs": [],
   "source": [
    "sns.heatmap(df.corr(), annot=True, linewidths = 0.5, linecolor='black', fmt ='.2f')"
   ]
  },
  {
   "cell_type": "code",
   "execution_count": null,
   "id": "f075a362",
   "metadata": {},
   "outputs": [],
   "source": [
    "# Encoding of DataFrame"
   ]
  },
  {
   "cell_type": "code",
   "execution_count": null,
   "id": "a0bd235f",
   "metadata": {},
   "outputs": [],
   "source": [
    "from sklearn.preprocessing import OrdinalEncoder\n",
    "enc=OrdinalEncoder()"
   ]
  },
  {
   "cell_type": "code",
   "execution_count": null,
   "id": "8c697e61",
   "metadata": {},
   "outputs": [],
   "source": [
    "for i in df.columns:\n",
    "    if df[i].dtype==\"object\":\n",
    "        df[i]=enc.fit_transform(df[i].values.reshape(-1,1))"
   ]
  },
  {
   "cell_type": "code",
   "execution_count": null,
   "id": "c71a5c49",
   "metadata": {},
   "outputs": [],
   "source": [
    "df"
   ]
  },
  {
   "cell_type": "code",
   "execution_count": null,
   "id": "3aa04297",
   "metadata": {},
   "outputs": [],
   "source": [
    "# Above observation is object dtype encode to integer where male - 2, female - 0 , and infact-1 "
   ]
  },
  {
   "cell_type": "code",
   "execution_count": null,
   "id": "2e660c8f",
   "metadata": {},
   "outputs": [],
   "source": [
    "# Describe the dataset:"
   ]
  },
  {
   "cell_type": "code",
   "execution_count": null,
   "id": "0ece7bca",
   "metadata": {},
   "outputs": [],
   "source": [
    "df.describe()"
   ]
  },
  {
   "cell_type": "code",
   "execution_count": null,
   "id": "602c9d88",
   "metadata": {},
   "outputs": [],
   "source": [
    "df.skew()"
   ]
  },
  {
   "cell_type": "code",
   "execution_count": null,
   "id": "a259130a",
   "metadata": {},
   "outputs": [],
   "source": [
    "# Rings  +/-0.5 gives the age in years, as range of skewness, here the columns which does not lie within the range\n",
    "# Length\n",
    "# Diameter\n",
    "# Height\n",
    "# shucked weight\n",
    "# shell weight\n"
   ]
  },
  {
   "cell_type": "code",
   "execution_count": null,
   "id": "a530e040",
   "metadata": {},
   "outputs": [],
   "source": [
    "# Outliers"
   ]
  },
  {
   "cell_type": "code",
   "execution_count": null,
   "id": "d2aa7260",
   "metadata": {},
   "outputs": [],
   "source": [
    "df.dtypes"
   ]
  },
  {
   "cell_type": "code",
   "execution_count": null,
   "id": "b00d5032",
   "metadata": {},
   "outputs": [],
   "source": [
    "df['Sex'].plot.box()"
   ]
  },
  {
   "cell_type": "code",
   "execution_count": null,
   "id": "095cf213",
   "metadata": {},
   "outputs": [],
   "source": [
    "df['Length'].plot.box()"
   ]
  },
  {
   "cell_type": "code",
   "execution_count": null,
   "id": "beb4a111",
   "metadata": {},
   "outputs": [],
   "source": [
    "df['Diameter'].plot.box()"
   ]
  },
  {
   "cell_type": "code",
   "execution_count": null,
   "id": "8a057ab7",
   "metadata": {},
   "outputs": [],
   "source": [
    "df['Height'].plot.box()"
   ]
  },
  {
   "cell_type": "code",
   "execution_count": null,
   "id": "7ae69a52",
   "metadata": {},
   "outputs": [],
   "source": [
    "df['Whole weight'].plot.box()"
   ]
  },
  {
   "cell_type": "code",
   "execution_count": null,
   "id": "156fca9b",
   "metadata": {},
   "outputs": [],
   "source": [
    "df['Shucked weight'].plot.box()"
   ]
  },
  {
   "cell_type": "code",
   "execution_count": null,
   "id": "a5c89e84",
   "metadata": {},
   "outputs": [],
   "source": [
    "df['Viscera weight'].plot.box()"
   ]
  },
  {
   "cell_type": "code",
   "execution_count": null,
   "id": "1073521d",
   "metadata": {},
   "outputs": [],
   "source": [
    "df['Shell weight'].plot.box()"
   ]
  },
  {
   "cell_type": "code",
   "execution_count": null,
   "id": "b479f5d4",
   "metadata": {},
   "outputs": [],
   "source": [
    "df['Rings'].unique()"
   ]
  },
  {
   "cell_type": "code",
   "execution_count": null,
   "id": "8add288a",
   "metadata": {},
   "outputs": [],
   "source": [
    "df.shape"
   ]
  },
  {
   "cell_type": "code",
   "execution_count": null,
   "id": "e2b1c33d",
   "metadata": {},
   "outputs": [],
   "source": [
    "from scipy.stats import zscore\n",
    "import numpy as np\n",
    "z=np.abs(zscore(df))\n",
    "threshold=3\n",
    "np.where(z>3)"
   ]
  },
  {
   "cell_type": "code",
   "execution_count": null,
   "id": "73c3c7d8",
   "metadata": {},
   "outputs": [],
   "source": [
    "df_new_z=df[(z>3).all(axis=1)]\n",
    "df_new_z"
   ]
  },
  {
   "cell_type": "code",
   "execution_count": null,
   "id": "63047f50",
   "metadata": {},
   "outputs": [],
   "source": [
    "# Separating the columns into features and target & Scaling the data using MIn-Max Scaler"
   ]
  },
  {
   "cell_type": "code",
   "execution_count": null,
   "id": "af5a8310",
   "metadata": {},
   "outputs": [],
   "source": [
    "features=df.drop(\"Rings\",axis=1)\n",
    "target=df[\"Rings\"]\n"
   ]
  },
  {
   "cell_type": "code",
   "execution_count": null,
   "id": "937d38b5",
   "metadata": {},
   "outputs": [],
   "source": [
    "from sklearn.preprocessing import MinMaxScaler\n",
    "mms=MinMaxScaler()\n",
    "from sklearn.linear_model import LinearRegression\n",
    "lr=LinearRegression()\n",
    "from sklearn.metrics import r2_score\n",
    "from sklearn.model_selection import train_test_split"
   ]
  },
  {
   "cell_type": "code",
   "execution_count": null,
   "id": "e4576a6c",
   "metadata": {},
   "outputs": [],
   "source": [
    "import warnings\n",
    "warnings.filterwarnings('ignore')"
   ]
  },
  {
   "cell_type": "code",
   "execution_count": null,
   "id": "6fcfdb79",
   "metadata": {},
   "outputs": [],
   "source": [
    "for i in range(0,100):\n",
    "    features_train,features_test,target_train,target_test=train_test_split(features,target,test_size=0.2,random_state=i)\n",
    "    lr.fit(features_train,target_train)\n",
    "    pred_train=lr.predict(features_train)\n",
    "    pred_test=lr.predict(features_test)\n",
    "    print(f\"At random state{i}, the training accuracy is:- {r2_score(target_train,pred_train)}\")\n",
    "    print(f\"At random state{i}, the testing accuracy is:- {r2_score(target_test,pred_test)}\")\n",
    "    print(\"/n\")\n",
    "    "
   ]
  },
  {
   "cell_type": "code",
   "execution_count": null,
   "id": "4e64e070",
   "metadata": {},
   "outputs": [],
   "source": [
    "features_train,features_test,target_train,target_test=train_test_split(features,target,test_size=0.2,random_state=12)"
   ]
  },
  {
   "cell_type": "code",
   "execution_count": null,
   "id": "65f42582",
   "metadata": {},
   "outputs": [],
   "source": [
    "lr.fit(features_train,target_train)"
   ]
  },
  {
   "cell_type": "code",
   "execution_count": null,
   "id": "eaa277a0",
   "metadata": {},
   "outputs": [],
   "source": [
    "pred_test=lr.predict(features_test)"
   ]
  },
  {
   "cell_type": "code",
   "execution_count": null,
   "id": "1a9b46d8",
   "metadata": {},
   "outputs": [],
   "source": [
    "print(r2_score(target_test,pred_test))"
   ]
  },
  {
   "cell_type": "code",
   "execution_count": null,
   "id": "a5f1fec3",
   "metadata": {},
   "outputs": [],
   "source": [
    "# Cross-validation of the model"
   ]
  },
  {
   "cell_type": "code",
   "execution_count": null,
   "id": "60f0cca4",
   "metadata": {},
   "outputs": [],
   "source": [
    "Train_accuracy=r2_score(target_train,pred_train)\n",
    "Test_accuracy=r2_score(target_test,pred_test)\n",
    "\n",
    "from sklearn.model_selection import cross_val_score\n",
    "for j in range(2,10):\n",
    "    cv_score=cross_val_score(lr,features,target,cv=j)\n",
    "    cv_mean=cv_score.mean()\n",
    "    print(f\"At cross fold{j} the cv score is {cv_mean} and accuracy score for training is {Train_accuracy} and accuracy score for testing is {Test_accuracy}\")\n",
    "    print(\"/n\")"
   ]
  },
  {
   "cell_type": "code",
   "execution_count": null,
   "id": "8a28f0f4",
   "metadata": {},
   "outputs": [],
   "source": [
    "# Handled the problem of overfitting and underfitting by checking training and testing score"
   ]
  },
  {
   "cell_type": "code",
   "execution_count": null,
   "id": "d10219e0",
   "metadata": {},
   "outputs": [],
   "source": [
    "import matplotlib.pyplot as plt\n",
    "plt.figure(figsize = (8,6))\n",
    "plt.scatter(x=target_test, y=pred_test, color='r')\n",
    "plt.plot(target_test,target_test, color='b')\n",
    "plt.xlabel('Actual Rings',fontsize=14)\n",
    "plt.ylabel('Predicted Rings',fontsize=14)\n",
    "plt.title('LinearRegression',fontsize=18)\n",
    "plt.show()"
   ]
  },
  {
   "cell_type": "code",
   "execution_count": null,
   "id": "9c364d99",
   "metadata": {},
   "outputs": [],
   "source": [
    "# Regularization"
   ]
  },
  {
   "cell_type": "code",
   "execution_count": null,
   "id": "c47e59a7",
   "metadata": {},
   "outputs": [],
   "source": [
    "from sklearn.model_selection import GridSearchCV\n",
    "from sklearn.model_selection import cross_val_score\n",
    "import warnings\n",
    "warnings.filterwarnings('ignore')"
   ]
  },
  {
   "cell_type": "code",
   "execution_count": null,
   "id": "c77bab36",
   "metadata": {},
   "outputs": [],
   "source": [
    "from sklearn.linear_model import Lasso"
   ]
  },
  {
   "cell_type": "code",
   "execution_count": null,
   "id": "fd1674b0",
   "metadata": {},
   "outputs": [],
   "source": [
    "parameters ={'alpha':[.0001, .001, .01, .1, 1, 10], 'random_state':list(range(0,10))}\n",
    "ls=Lasso()\n",
    "clf=GridSearchCV(ls,parameters)\n",
    "clf.fit(features_train,target_train)\n",
    "print(clf.best_params_)\n"
   ]
  },
  {
   "cell_type": "code",
   "execution_count": null,
   "id": "29594ead",
   "metadata": {},
   "outputs": [],
   "source": [
    "ls=Lasso(alpha=1, random_state=0)\n",
    "ls.fit(features_train, target_train)\n",
    "ls.score(features_train,target_train)\n",
    "pred_ls=ls.predict(features_test)\n",
    "lss = r2_score(target_test,pred_ls)\n",
    "lss"
   ]
  },
  {
   "cell_type": "code",
   "execution_count": null,
   "id": "447b52e9",
   "metadata": {},
   "outputs": [],
   "source": [
    "cv_score=cross_val_score(ls,features,target,cv=5)\n",
    "cv_mean=cv_score.mean()\n",
    "cv_mean"
   ]
  },
  {
   "cell_type": "code",
   "execution_count": null,
   "id": "4eddd562",
   "metadata": {},
   "outputs": [],
   "source": [
    "import pickle\n",
    "filename = [\"Abalone_Case_Study\"]\n",
    "pickle.dump(rf,open(filename, 'wb'))"
   ]
  },
  {
   "cell_type": "code",
   "execution_count": null,
   "id": "5608e5e2",
   "metadata": {},
   "outputs": [],
   "source": [
    "# Conclusion"
   ]
  },
  {
   "cell_type": "code",
   "execution_count": null,
   "id": "10847375",
   "metadata": {},
   "outputs": [],
   "source": [
    "loaded_model = pickle.load(open('Abalone_Case_Study.pkl','rb'))\n",
    "result = loaded_model.score(features_test, target_test)\n",
    "print(result)"
   ]
  },
  {
   "cell_type": "code",
   "execution_count": null,
   "id": "9f846f26",
   "metadata": {},
   "outputs": [],
   "source": [
    "conclusion=pd.DataFrame([Loaded_model.predict(features_test)[:],pred_decsion[:]],index=['Prediction','Original'])"
   ]
  },
  {
   "cell_type": "code",
   "execution_count": null,
   "id": "ba1c8ac6",
   "metadata": {},
   "outputs": [],
   "source": [
    "conclusion"
   ]
  },
  {
   "cell_type": "code",
   "execution_count": null,
   "id": "33d7498e",
   "metadata": {},
   "outputs": [],
   "source": []
  }
 ],
 "metadata": {
  "kernelspec": {
   "display_name": "Python 3",
   "language": "python",
   "name": "python3"
  },
  "language_info": {
   "codemirror_mode": {
    "name": "ipython",
    "version": 3
   },
   "file_extension": ".py",
   "mimetype": "text/x-python",
   "name": "python",
   "nbconvert_exporter": "python",
   "pygments_lexer": "ipython3",
   "version": "3.8.8"
  }
 },
 "nbformat": 4,
 "nbformat_minor": 5
}
